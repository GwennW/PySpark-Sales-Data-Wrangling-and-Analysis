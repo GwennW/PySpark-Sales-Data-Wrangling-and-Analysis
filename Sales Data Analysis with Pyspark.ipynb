{
 "cells": [
  {
   "cell_type": "markdown",
   "metadata": {},
   "source": [
    "# Importing the necessary libraries to import, merge and manipulate the data"
   ]
  },
  {
   "cell_type": "code",
   "execution_count": 1,
   "metadata": {},
   "outputs": [],
   "source": [
    "import os\n",
    "import pandas as pd"
   ]
  },
  {
   "cell_type": "code",
   "execution_count": 62,
   "metadata": {},
   "outputs": [],
   "source": [
    "import matplotlib.pyplot as plt\n",
    "import seaborn as sns"
   ]
  },
  {
   "cell_type": "code",
   "execution_count": 2,
   "metadata": {},
   "outputs": [],
   "source": [
    "path = r\"C:\\Users\\Gwenn\\Desktop\\Data Material\\Sales_Data\"\n",
    "files = [file for file in os.listdir(path) if not file.startswith('.')] # Ignore hidden files\n",
    "\n",
    "all_months_data = pd.DataFrame()\n",
    "\n",
    "for file in files:\n",
    "    current_data = pd.read_csv(path+\"/\"+file)\n",
    "    all_months_data = pd.concat([all_months_data, current_data])\n",
    "    \n",
    "all_months_data.to_csv(\"all_data_copy.csv\", index=False)"
   ]
  },
  {
   "cell_type": "markdown",
   "metadata": {},
   "source": [
    "# Importing the Pyspark libraries "
   ]
  },
  {
   "cell_type": "code",
   "execution_count": 3,
   "metadata": {},
   "outputs": [],
   "source": [
    "import pyspark"
   ]
  },
  {
   "cell_type": "code",
   "execution_count": 4,
   "metadata": {},
   "outputs": [],
   "source": [
    "from pyspark.sql import SparkSession\n",
    "import pyspark.sql.functions as F\n",
    "import pyspark.sql.types as T"
   ]
  },
  {
   "cell_type": "code",
   "execution_count": 5,
   "metadata": {},
   "outputs": [],
   "source": [
    "spark=SparkSession.builder.getOrCreate()"
   ]
  },
  {
   "cell_type": "markdown",
   "metadata": {},
   "source": [
    "# Uploading the merged files into a Spark dataframe"
   ]
  },
  {
   "cell_type": "code",
   "execution_count": 6,
   "metadata": {},
   "outputs": [],
   "source": [
    "df=spark.read.csv(r'C:\\Users\\Gwenn\\all_data_copy.csv',header=True,\n",
    "    inferSchema=True)"
   ]
  },
  {
   "cell_type": "code",
   "execution_count": 7,
   "metadata": {},
   "outputs": [
    {
     "name": "stdout",
     "output_type": "stream",
     "text": [
      "+--------+--------------------+----------------+----------+----------------+--------------------+\n",
      "|Order ID|             Product|Quantity Ordered|Price Each|      Order Date|    Purchase Address|\n",
      "+--------+--------------------+----------------+----------+----------------+--------------------+\n",
      "|  176558|USB-C Charging Cable|               2|     11.95|  04/19/19 08:46|917 1st St, Dalla...|\n",
      "|  176559|Bose SoundSport H...|               1|     99.99|04/07/2019 22:30|682 Chestnut St, ...|\n",
      "|  176560|        Google Phone|               1|     600.0|04/12/2019 14:38|669 Spruce St, Lo...|\n",
      "|  176560|    Wired Headphones|               1|     11.99|04/12/2019 14:38|669 Spruce St, Lo...|\n",
      "|  176561|    Wired Headphones|               1|     11.99|  04/30/19 09:27|333 8th St, Los A...|\n",
      "|  176562|USB-C Charging Cable|               1|     11.95|  04/29/19 13:03|381 Wilson St, Sa...|\n",
      "|  176563|Bose SoundSport H...|               1|     99.99|04/02/2019 07:46|668 Center St, Se...|\n",
      "|  176564|USB-C Charging Cable|               1|     11.95|04/12/2019 10:58|790 Ridge St, Atl...|\n",
      "|  176565|  Macbook Pro Laptop|               1|    1700.0|  04/24/19 10:38|915 Willow St, Sa...|\n",
      "|  176566|    Wired Headphones|               1|     11.99|04/08/2019 14:05|83 7th St, Boston...|\n",
      "|  176567|        Google Phone|               1|     600.0|  04/18/19 17:18|444 7th St, Los A...|\n",
      "|  176568|Lightning Chargin...|               1|     14.95|  04/15/19 12:18|438 Elm St, Seatt...|\n",
      "|  176569|27in 4K Gaming Mo...|               1|    389.99|  04/16/19 19:23|657 Hill St, Dall...|\n",
      "|  176570|AA Batteries (4-p...|               1|      3.84|  04/22/19 15:09|186 12th St, Dall...|\n",
      "|  176571|Lightning Chargin...|               1|     14.95|  04/19/19 14:29|253 Johnson St, A...|\n",
      "|  176572|Apple Airpods Hea...|               1|     150.0|04/04/2019 20:30|149 Dogwood St, N...|\n",
      "|  176573|USB-C Charging Cable|               1|     11.95|  04/27/19 18:41|214 Chestnut St, ...|\n",
      "|  176574|        Google Phone|               1|     600.0|04/03/2019 19:42|20 Hill St, Los A...|\n",
      "|  176574|USB-C Charging Cable|               1|     11.95|04/03/2019 19:42|20 Hill St, Los A...|\n",
      "|  176575|AAA Batteries (4-...|               1|      2.99|  04/27/19 00:30|433 Hill St, New ...|\n",
      "+--------+--------------------+----------------+----------+----------------+--------------------+\n",
      "only showing top 20 rows\n",
      "\n"
     ]
    }
   ],
   "source": [
    "df.show()"
   ]
  },
  {
   "cell_type": "markdown",
   "metadata": {},
   "source": [
    "# Inspecting the data types"
   ]
  },
  {
   "cell_type": "code",
   "execution_count": 8,
   "metadata": {},
   "outputs": [
    {
     "name": "stdout",
     "output_type": "stream",
     "text": [
      "root\n",
      " |-- Order ID: integer (nullable = true)\n",
      " |-- Product: string (nullable = true)\n",
      " |-- Quantity Ordered: integer (nullable = true)\n",
      " |-- Price Each: double (nullable = true)\n",
      " |-- Order Date: string (nullable = true)\n",
      " |-- Purchase Address: string (nullable = true)\n",
      "\n"
     ]
    }
   ],
   "source": [
    "df.printSchema()"
   ]
  },
  {
   "cell_type": "markdown",
   "metadata": {},
   "source": [
    "# Dropping all null values"
   ]
  },
  {
   "cell_type": "code",
   "execution_count": 9,
   "metadata": {},
   "outputs": [],
   "source": [
    "df=df.dropna(how='any')"
   ]
  },
  {
   "cell_type": "markdown",
   "metadata": {},
   "source": [
    "# Calculating the total sold items for each product"
   ]
  },
  {
   "cell_type": "code",
   "execution_count": 10,
   "metadata": {},
   "outputs": [
    {
     "name": "stdout",
     "output_type": "stream",
     "text": [
      "+--------------------+----------------+\n",
      "|             Product|Total Sold Items|\n",
      "+--------------------+----------------+\n",
      "|AAA Batteries (4-...|           31017|\n",
      "|AA Batteries (4-p...|           27635|\n",
      "|USB-C Charging Cable|           23975|\n",
      "|Lightning Chargin...|           23217|\n",
      "|    Wired Headphones|           20557|\n",
      "|Apple Airpods Hea...|           15661|\n",
      "|Bose SoundSport H...|           13457|\n",
      "|    27in FHD Monitor|            7550|\n",
      "|              iPhone|            6849|\n",
      "|27in 4K Gaming Mo...|            6244|\n",
      "|34in Ultrawide Mo...|            6199|\n",
      "|        Google Phone|            5532|\n",
      "|       Flatscreen TV|            4819|\n",
      "|  Macbook Pro Laptop|            4728|\n",
      "|     ThinkPad Laptop|            4130|\n",
      "|        20in Monitor|            4129|\n",
      "|     Vareebadd Phone|            2068|\n",
      "|  LG Washing Machine|             666|\n",
      "|            LG Dryer|             646|\n",
      "+--------------------+----------------+\n",
      "\n"
     ]
    }
   ],
   "source": [
    "df.groupby('Product').agg(F.sum('Quantity Ordered').alias('Total Sold Items')).orderBy('Total Sold Items',ascending=False).show()"
   ]
  },
  {
   "cell_type": "markdown",
   "metadata": {},
   "source": [
    "# Converting the Price Each column into a float"
   ]
  },
  {
   "cell_type": "code",
   "execution_count": 11,
   "metadata": {},
   "outputs": [],
   "source": [
    "df=df.withColumn('Price Each',df['Price Each'].cast('float'))"
   ]
  },
  {
   "cell_type": "code",
   "execution_count": 12,
   "metadata": {},
   "outputs": [
    {
     "name": "stdout",
     "output_type": "stream",
     "text": [
      "root\n",
      " |-- Order ID: integer (nullable = true)\n",
      " |-- Product: string (nullable = true)\n",
      " |-- Quantity Ordered: integer (nullable = true)\n",
      " |-- Price Each: float (nullable = true)\n",
      " |-- Order Date: string (nullable = true)\n",
      " |-- Purchase Address: string (nullable = true)\n",
      "\n"
     ]
    }
   ],
   "source": [
    "df.printSchema()"
   ]
  },
  {
   "cell_type": "markdown",
   "metadata": {},
   "source": [
    "# Multiplying Price by Quantity to get Total Sales"
   ]
  },
  {
   "cell_type": "code",
   "execution_count": 13,
   "metadata": {},
   "outputs": [],
   "source": [
    "from pyspark.sql.functions import col"
   ]
  },
  {
   "cell_type": "code",
   "execution_count": 14,
   "metadata": {},
   "outputs": [],
   "source": [
    "df=df.withColumn('Total Sales',col('Quantity Ordered') * col('Price Each'))"
   ]
  },
  {
   "cell_type": "code",
   "execution_count": 15,
   "metadata": {},
   "outputs": [
    {
     "name": "stdout",
     "output_type": "stream",
     "text": [
      "+--------+--------------------+----------------+----------+----------------+--------------------+-----------+\n",
      "|Order ID|             Product|Quantity Ordered|Price Each|      Order Date|    Purchase Address|Total Sales|\n",
      "+--------+--------------------+----------------+----------+----------------+--------------------+-----------+\n",
      "|  176558|USB-C Charging Cable|               2|     11.95|  04/19/19 08:46|917 1st St, Dalla...|       23.9|\n",
      "|  176559|Bose SoundSport H...|               1|     99.99|04/07/2019 22:30|682 Chestnut St, ...|      99.99|\n",
      "|  176560|        Google Phone|               1|     600.0|04/12/2019 14:38|669 Spruce St, Lo...|      600.0|\n",
      "|  176560|    Wired Headphones|               1|     11.99|04/12/2019 14:38|669 Spruce St, Lo...|      11.99|\n",
      "|  176561|    Wired Headphones|               1|     11.99|  04/30/19 09:27|333 8th St, Los A...|      11.99|\n",
      "|  176562|USB-C Charging Cable|               1|     11.95|  04/29/19 13:03|381 Wilson St, Sa...|      11.95|\n",
      "|  176563|Bose SoundSport H...|               1|     99.99|04/02/2019 07:46|668 Center St, Se...|      99.99|\n",
      "|  176564|USB-C Charging Cable|               1|     11.95|04/12/2019 10:58|790 Ridge St, Atl...|      11.95|\n",
      "|  176565|  Macbook Pro Laptop|               1|    1700.0|  04/24/19 10:38|915 Willow St, Sa...|     1700.0|\n",
      "|  176566|    Wired Headphones|               1|     11.99|04/08/2019 14:05|83 7th St, Boston...|      11.99|\n",
      "|  176567|        Google Phone|               1|     600.0|  04/18/19 17:18|444 7th St, Los A...|      600.0|\n",
      "|  176568|Lightning Chargin...|               1|     14.95|  04/15/19 12:18|438 Elm St, Seatt...|      14.95|\n",
      "|  176569|27in 4K Gaming Mo...|               1|    389.99|  04/16/19 19:23|657 Hill St, Dall...|     389.99|\n",
      "|  176570|AA Batteries (4-p...|               1|      3.84|  04/22/19 15:09|186 12th St, Dall...|       3.84|\n",
      "|  176571|Lightning Chargin...|               1|     14.95|  04/19/19 14:29|253 Johnson St, A...|      14.95|\n",
      "|  176572|Apple Airpods Hea...|               1|     150.0|04/04/2019 20:30|149 Dogwood St, N...|      150.0|\n",
      "|  176573|USB-C Charging Cable|               1|     11.95|  04/27/19 18:41|214 Chestnut St, ...|      11.95|\n",
      "|  176574|        Google Phone|               1|     600.0|04/03/2019 19:42|20 Hill St, Los A...|      600.0|\n",
      "|  176574|USB-C Charging Cable|               1|     11.95|04/03/2019 19:42|20 Hill St, Los A...|      11.95|\n",
      "|  176575|AAA Batteries (4-...|               1|      2.99|  04/27/19 00:30|433 Hill St, New ...|       2.99|\n",
      "+--------+--------------------+----------------+----------+----------------+--------------------+-----------+\n",
      "only showing top 20 rows\n",
      "\n"
     ]
    }
   ],
   "source": [
    "df.show()"
   ]
  },
  {
   "cell_type": "markdown",
   "metadata": {},
   "source": [
    "# Grouping by Products to see which ones grosses in the most money"
   ]
  },
  {
   "cell_type": "code",
   "execution_count": 16,
   "metadata": {},
   "outputs": [],
   "source": [
    "total_sales=df.groupby('Product').agg(F.sum('Total Sales').alias('Total Product Sales'),\n",
    "                         F.sum('Quantity Ordered').alias('Total Quantity Sold')).orderBy('Total Product Sales',ascending=False)"
   ]
  },
  {
   "cell_type": "code",
   "execution_count": 17,
   "metadata": {},
   "outputs": [
    {
     "name": "stdout",
     "output_type": "stream",
     "text": [
      "+--------------------+-------------------+-------------------+\n",
      "|             Product|Total Product Sales|Total Quantity Sold|\n",
      "+--------------------+-------------------+-------------------+\n",
      "|  Macbook Pro Laptop|          8037600.0|               4728|\n",
      "|              iPhone|          4794300.0|               6849|\n",
      "|     ThinkPad Laptop| 4129958.6596679688|               4130|\n",
      "|        Google Phone|          3319200.0|               5532|\n",
      "|27in 4K Gaming Mo...| 2435097.4990234375|               6244|\n",
      "|34in Ultrawide Mo...| 2355557.9494628906|               6199|\n",
      "|Apple Airpods Hea...|          2349150.0|              15661|\n",
      "|       Flatscreen TV|          1445700.0|               4819|\n",
      "|Bose SoundSport H...| 1345565.4012680054|              13457|\n",
      "|    27in FHD Monitor| 1132424.5414733887|               7550|\n",
      "|     Vareebadd Phone|           827200.0|               2068|\n",
      "|        20in Monitor|  454148.7011795044|               4129|\n",
      "|  LG Washing Machine|           399600.0|                666|\n",
      "|            LG Dryer|           387600.0|                646|\n",
      "|Lightning Chargin...| 347094.14547920227|              23217|\n",
      "|USB-C Charging Cable|  286501.2452764511|              23975|\n",
      "|    Wired Headphones| 246478.42553901672|              20557|\n",
      "|AA Batteries (4-p...| 106118.39732432365|              27635|\n",
      "|AAA Batteries (4-...|  92740.83064889908|              31017|\n",
      "+--------------------+-------------------+-------------------+\n",
      "\n"
     ]
    }
   ],
   "source": [
    "total_sales.show()"
   ]
  },
  {
   "cell_type": "markdown",
   "metadata": {},
   "source": [
    "# Finding out the average amount spent per purchase"
   ]
  },
  {
   "cell_type": "code",
   "execution_count": 21,
   "metadata": {},
   "outputs": [],
   "source": [
    "total_sales_dollars=total_sales.agg(F.sum('Total Product Sales')).collect()[0][0]"
   ]
  },
  {
   "cell_type": "code",
   "execution_count": 22,
   "metadata": {},
   "outputs": [],
   "source": [
    "total_sold_products=total_sales.agg(F.sum('Total Quantity Sold')).collect()[0][0]"
   ]
  },
  {
   "cell_type": "code",
   "execution_count": 23,
   "metadata": {},
   "outputs": [
    {
     "name": "stdout",
     "output_type": "stream",
     "text": [
      "The average amount spent per purchase is $ 164.97130652214278\n"
     ]
    }
   ],
   "source": [
    "print('The average amount spent per purchase is $',total_sales_dollars/total_sold_products)"
   ]
  },
  {
   "cell_type": "markdown",
   "metadata": {},
   "source": [
    "# Finding out how much percentage each item accounts for "
   ]
  },
  {
   "cell_type": "code",
   "execution_count": 28,
   "metadata": {},
   "outputs": [],
   "source": [
    "total_sales=total_sales.withColumn('Percentage Total Product Sold',(col('Total Quantity Sold')/total_sold_products)*100)"
   ]
  },
  {
   "cell_type": "code",
   "execution_count": 29,
   "metadata": {
    "scrolled": true
   },
   "outputs": [
    {
     "name": "stdout",
     "output_type": "stream",
     "text": [
      "+--------------------+-------------------+-------------------+-----------------------------+\n",
      "|             Product|Total Product Sales|Total Quantity Sold|Percentage Total Product Sold|\n",
      "+--------------------+-------------------+-------------------+-----------------------------+\n",
      "|  Macbook Pro Laptop|          8037600.0|               4728|            2.261346189717762|\n",
      "|              iPhone|          4794300.0|               6849|           3.2757952735568847|\n",
      "|     ThinkPad Laptop| 4129958.6596679688|               4130|            1.975329899224695|\n",
      "|        Google Phone|          3319200.0|               5532|            2.645889831116468|\n",
      "|27in 4K Gaming Mo...| 2435097.4990234375|               6244|            2.986430966285471|\n",
      "|34in Ultrawide Mo...| 2355557.9494628906|               6199|           2.9649080012818123|\n",
      "|Apple Airpods Hea...|          2349150.0|              15661|            7.490470109384491|\n",
      "|       Flatscreen TV|          1445700.0|               4819|           2.3048704078362725|\n",
      "|Bose SoundSport H...| 1345565.4012680054|              13457|            6.436323112316397|\n",
      "|    27in FHD Monitor| 1132424.5414733887|               7550|           3.6110752395027714|\n",
      "|     Vareebadd Phone|           827200.0|               2068|           0.9890998139459248|\n",
      "|        20in Monitor|  454148.7011795044|               4129|           1.9748516111135026|\n",
      "|  LG Washing Machine|           399600.0|                666|           0.3185398820541518|\n",
      "|            LG Dryer|           387600.0|                646|           0.3089741198303034|\n",
      "|Lightning Chargin...| 347094.14547920227|              23217|           11.104415077554417|\n",
      "|USB-C Charging Cable|  286501.2452764511|              23975|           11.466957465838272|\n",
      "|    Wired Headphones| 246478.42553901672|              20557|             9.83216870178258|\n",
      "|AA Batteries (4-p...| 106118.39732432365|              27635|            13.21749195280253|\n",
      "|AAA Batteries (4-...|  92740.83064889908|              31017|           14.835062344855293|\n",
      "+--------------------+-------------------+-------------------+-----------------------------+\n",
      "\n"
     ]
    }
   ],
   "source": [
    "total_sales.show()"
   ]
  },
  {
   "cell_type": "code",
   "execution_count": 32,
   "metadata": {},
   "outputs": [],
   "source": [
    "split_col=pyspark.sql.functions.split(df['Order Date'],'')"
   ]
  },
  {
   "cell_type": "code",
   "execution_count": 33,
   "metadata": {},
   "outputs": [
    {
     "name": "stdout",
     "output_type": "stream",
     "text": [
      "+--------+--------------------+----------------+----------+----------------+--------------------+-----------+\n",
      "|Order ID|             Product|Quantity Ordered|Price Each|      Order Date|    Purchase Address|Total Sales|\n",
      "+--------+--------------------+----------------+----------+----------------+--------------------+-----------+\n",
      "|  176558|USB-C Charging Cable|               2|     11.95|  04/19/19 08:46|917 1st St, Dalla...|       23.9|\n",
      "|  176559|Bose SoundSport H...|               1|     99.99|04/07/2019 22:30|682 Chestnut St, ...|      99.99|\n",
      "|  176560|        Google Phone|               1|     600.0|04/12/2019 14:38|669 Spruce St, Lo...|      600.0|\n",
      "|  176560|    Wired Headphones|               1|     11.99|04/12/2019 14:38|669 Spruce St, Lo...|      11.99|\n",
      "|  176561|    Wired Headphones|               1|     11.99|  04/30/19 09:27|333 8th St, Los A...|      11.99|\n",
      "|  176562|USB-C Charging Cable|               1|     11.95|  04/29/19 13:03|381 Wilson St, Sa...|      11.95|\n",
      "|  176563|Bose SoundSport H...|               1|     99.99|04/02/2019 07:46|668 Center St, Se...|      99.99|\n",
      "|  176564|USB-C Charging Cable|               1|     11.95|04/12/2019 10:58|790 Ridge St, Atl...|      11.95|\n",
      "|  176565|  Macbook Pro Laptop|               1|    1700.0|  04/24/19 10:38|915 Willow St, Sa...|     1700.0|\n",
      "|  176566|    Wired Headphones|               1|     11.99|04/08/2019 14:05|83 7th St, Boston...|      11.99|\n",
      "|  176567|        Google Phone|               1|     600.0|  04/18/19 17:18|444 7th St, Los A...|      600.0|\n",
      "|  176568|Lightning Chargin...|               1|     14.95|  04/15/19 12:18|438 Elm St, Seatt...|      14.95|\n",
      "|  176569|27in 4K Gaming Mo...|               1|    389.99|  04/16/19 19:23|657 Hill St, Dall...|     389.99|\n",
      "|  176570|AA Batteries (4-p...|               1|      3.84|  04/22/19 15:09|186 12th St, Dall...|       3.84|\n",
      "|  176571|Lightning Chargin...|               1|     14.95|  04/19/19 14:29|253 Johnson St, A...|      14.95|\n",
      "|  176572|Apple Airpods Hea...|               1|     150.0|04/04/2019 20:30|149 Dogwood St, N...|      150.0|\n",
      "|  176573|USB-C Charging Cable|               1|     11.95|  04/27/19 18:41|214 Chestnut St, ...|      11.95|\n",
      "|  176574|        Google Phone|               1|     600.0|04/03/2019 19:42|20 Hill St, Los A...|      600.0|\n",
      "|  176574|USB-C Charging Cable|               1|     11.95|04/03/2019 19:42|20 Hill St, Los A...|      11.95|\n",
      "|  176575|AAA Batteries (4-...|               1|      2.99|  04/27/19 00:30|433 Hill St, New ...|       2.99|\n",
      "+--------+--------------------+----------------+----------+----------------+--------------------+-----------+\n",
      "only showing top 20 rows\n",
      "\n"
     ]
    }
   ],
   "source": [
    "df.show()"
   ]
  },
  {
   "cell_type": "code",
   "execution_count": 35,
   "metadata": {},
   "outputs": [],
   "source": [
    "df=df.withColumn('Order Date Updated',split_col.getItem(0))"
   ]
  },
  {
   "cell_type": "code",
   "execution_count": 36,
   "metadata": {},
   "outputs": [],
   "source": [
    "df=df.withColumn('Order Time',split_col.getItem(1))"
   ]
  },
  {
   "cell_type": "code",
   "execution_count": 37,
   "metadata": {},
   "outputs": [],
   "source": [
    "split_col=pyspark.sql.functions.split(df['Order Time'],':')"
   ]
  },
  {
   "cell_type": "code",
   "execution_count": 38,
   "metadata": {},
   "outputs": [],
   "source": [
    "df=df.withColumn('Order Hour',split_col.getItem(0))"
   ]
  },
  {
   "cell_type": "code",
   "execution_count": 39,
   "metadata": {},
   "outputs": [
    {
     "name": "stdout",
     "output_type": "stream",
     "text": [
      "+--------+--------------------+----------------+----------+----------------+--------------------+-----------+------------------+----------+----------+\n",
      "|Order ID|             Product|Quantity Ordered|Price Each|      Order Date|    Purchase Address|Total Sales|Order Date Updated|Order Time|Order Hour|\n",
      "+--------+--------------------+----------------+----------+----------------+--------------------+-----------+------------------+----------+----------+\n",
      "|  176558|USB-C Charging Cable|               2|     11.95|  04/19/19 08:46|917 1st St, Dalla...|       23.9|                 0|         4|         4|\n",
      "|  176559|Bose SoundSport H...|               1|     99.99|04/07/2019 22:30|682 Chestnut St, ...|      99.99|                 0|         4|         4|\n",
      "|  176560|        Google Phone|               1|     600.0|04/12/2019 14:38|669 Spruce St, Lo...|      600.0|                 0|         4|         4|\n",
      "|  176560|    Wired Headphones|               1|     11.99|04/12/2019 14:38|669 Spruce St, Lo...|      11.99|                 0|         4|         4|\n",
      "|  176561|    Wired Headphones|               1|     11.99|  04/30/19 09:27|333 8th St, Los A...|      11.99|                 0|         4|         4|\n",
      "|  176562|USB-C Charging Cable|               1|     11.95|  04/29/19 13:03|381 Wilson St, Sa...|      11.95|                 0|         4|         4|\n",
      "|  176563|Bose SoundSport H...|               1|     99.99|04/02/2019 07:46|668 Center St, Se...|      99.99|                 0|         4|         4|\n",
      "|  176564|USB-C Charging Cable|               1|     11.95|04/12/2019 10:58|790 Ridge St, Atl...|      11.95|                 0|         4|         4|\n",
      "|  176565|  Macbook Pro Laptop|               1|    1700.0|  04/24/19 10:38|915 Willow St, Sa...|     1700.0|                 0|         4|         4|\n",
      "|  176566|    Wired Headphones|               1|     11.99|04/08/2019 14:05|83 7th St, Boston...|      11.99|                 0|         4|         4|\n",
      "|  176567|        Google Phone|               1|     600.0|  04/18/19 17:18|444 7th St, Los A...|      600.0|                 0|         4|         4|\n",
      "|  176568|Lightning Chargin...|               1|     14.95|  04/15/19 12:18|438 Elm St, Seatt...|      14.95|                 0|         4|         4|\n",
      "|  176569|27in 4K Gaming Mo...|               1|    389.99|  04/16/19 19:23|657 Hill St, Dall...|     389.99|                 0|         4|         4|\n",
      "|  176570|AA Batteries (4-p...|               1|      3.84|  04/22/19 15:09|186 12th St, Dall...|       3.84|                 0|         4|         4|\n",
      "|  176571|Lightning Chargin...|               1|     14.95|  04/19/19 14:29|253 Johnson St, A...|      14.95|                 0|         4|         4|\n",
      "|  176572|Apple Airpods Hea...|               1|     150.0|04/04/2019 20:30|149 Dogwood St, N...|      150.0|                 0|         4|         4|\n",
      "|  176573|USB-C Charging Cable|               1|     11.95|  04/27/19 18:41|214 Chestnut St, ...|      11.95|                 0|         4|         4|\n",
      "|  176574|        Google Phone|               1|     600.0|04/03/2019 19:42|20 Hill St, Los A...|      600.0|                 0|         4|         4|\n",
      "|  176574|USB-C Charging Cable|               1|     11.95|04/03/2019 19:42|20 Hill St, Los A...|      11.95|                 0|         4|         4|\n",
      "|  176575|AAA Batteries (4-...|               1|      2.99|  04/27/19 00:30|433 Hill St, New ...|       2.99|                 0|         4|         4|\n",
      "+--------+--------------------+----------------+----------+----------------+--------------------+-----------+------------------+----------+----------+\n",
      "only showing top 20 rows\n",
      "\n"
     ]
    }
   ],
   "source": [
    "df.show()"
   ]
  },
  {
   "cell_type": "code",
   "execution_count": 59,
   "metadata": {},
   "outputs": [],
   "source": [
    "orders_by_hours=df.groupby('Order Hour').agg(F.sum('Total Sales').alias('Total Hourly Sales'),\n",
    "                            F.sum('Quantity Ordered').alias('Hourly Quantity Ordered')).orderBy('Total Hourly Sales',ascending=False)"
   ]
  },
  {
   "cell_type": "code",
   "execution_count": 48,
   "metadata": {},
   "outputs": [],
   "source": [
    "split_col=pyspark.sql.functions.split(df['Order Date'],'/')"
   ]
  },
  {
   "cell_type": "code",
   "execution_count": 51,
   "metadata": {},
   "outputs": [],
   "source": [
    "df=df.withColumn('Order Day',split_col.getItem(1))"
   ]
  },
  {
   "cell_type": "code",
   "execution_count": 57,
   "metadata": {},
   "outputs": [],
   "source": [
    "total_sales_per_day=df.groupby('Order Day').agg(F.sum('Total Sales').alias('Total Sales'),\n",
    "                           F.sum('Quantity Ordered').alias('Total Sold Products')).orderBy('Total Sales',ascending=False)"
   ]
  },
  {
   "cell_type": "code",
   "execution_count": 58,
   "metadata": {},
   "outputs": [
    {
     "name": "stdout",
     "output_type": "stream",
     "text": [
      "+---------+------------------+-------------------+\n",
      "|Order Day|       Total Sales|Total Sold Products|\n",
      "+---------+------------------+-------------------+\n",
      "|       09| 1169250.424434185|               6836|\n",
      "|       10| 1169108.723827362|               6965|\n",
      "|       25|1168818.5841395855|               6804|\n",
      "|       11|1167958.4840314388|               6760|\n",
      "|       01|1166319.2442250252|               6867|\n",
      "|       18|1164031.5440473557|               6846|\n",
      "|       04| 1163857.714392662|               6813|\n",
      "|       06| 1151956.084501028|               6778|\n",
      "|       20|1144375.4642179012|               6923|\n",
      "|       26|1140443.2842223644|               7018|\n",
      "|       22|1139919.2846345901|               6887|\n",
      "|       17|1139307.9843757153|               6972|\n",
      "|       02| 1137457.034198761|               6962|\n",
      "|       13|1137392.5339622498|               7112|\n",
      "|       05|1135284.7244741917|               6816|\n",
      "|       14|1133909.6541388035|               6907|\n",
      "|       27|1128343.1839623451|               6831|\n",
      "|       24| 1122227.564392805|               6913|\n",
      "|       21|1122014.1346459389|               6864|\n",
      "|       28|1120329.6443536282|               6865|\n",
      "+---------+------------------+-------------------+\n",
      "only showing top 20 rows\n",
      "\n"
     ]
    }
   ],
   "source": [
    "total_sales_per_day.show()"
   ]
  },
  {
   "cell_type": "markdown",
   "metadata": {},
   "source": [
    "# Cleaning the \"Purchase Address\" column to extract some insights about States and Cities"
   ]
  },
  {
   "cell_type": "code",
   "execution_count": 41,
   "metadata": {},
   "outputs": [
    {
     "name": "stdout",
     "output_type": "stream",
     "text": [
      "+----------------------------------------+\n",
      "|Purchase Address                        |\n",
      "+----------------------------------------+\n",
      "|917 1st St, Dallas, TX 75001            |\n",
      "|682 Chestnut St, Boston, MA 02215       |\n",
      "|669 Spruce St, Los Angeles, CA 90001    |\n",
      "|669 Spruce St, Los Angeles, CA 90001    |\n",
      "|333 8th St, Los Angeles, CA 90001       |\n",
      "|381 Wilson St, San Francisco, CA 94016  |\n",
      "|668 Center St, Seattle, WA 98101        |\n",
      "|790 Ridge St, Atlanta, GA 30301         |\n",
      "|915 Willow St, San Francisco, CA 94016  |\n",
      "|83 7th St, Boston, MA 02215             |\n",
      "|444 7th St, Los Angeles, CA 90001       |\n",
      "|438 Elm St, Seattle, WA 98101           |\n",
      "|657 Hill St, Dallas, TX 75001           |\n",
      "|186 12th St, Dallas, TX 75001           |\n",
      "|253 Johnson St, Atlanta, GA 30301       |\n",
      "|149 Dogwood St, New York City, NY 10001 |\n",
      "|214 Chestnut St, San Francisco, CA 94016|\n",
      "|20 Hill St, Los Angeles, CA 90001       |\n",
      "|20 Hill St, Los Angeles, CA 90001       |\n",
      "|433 Hill St, New York City, NY 10001    |\n",
      "+----------------------------------------+\n",
      "only showing top 20 rows\n",
      "\n"
     ]
    }
   ],
   "source": [
    "df.select('Purchase Address').show(truncate=False)"
   ]
  },
  {
   "cell_type": "code",
   "execution_count": 42,
   "metadata": {},
   "outputs": [],
   "source": [
    "split_col=pyspark.sql.functions.split(df['Purchase Address'],',')"
   ]
  },
  {
   "cell_type": "code",
   "execution_count": 43,
   "metadata": {},
   "outputs": [],
   "source": [
    "#Getting the States\n",
    "df=df.withColumn('State',split_col.getItem(2))"
   ]
  },
  {
   "cell_type": "code",
   "execution_count": 44,
   "metadata": {},
   "outputs": [],
   "source": [
    "#Getting the City\n",
    "df=df.withColumn('City',split_col.getItem(1))"
   ]
  },
  {
   "cell_type": "code",
   "execution_count": 45,
   "metadata": {},
   "outputs": [
    {
     "name": "stdout",
     "output_type": "stream",
     "text": [
      "root\n",
      " |-- Order ID: integer (nullable = true)\n",
      " |-- Product: string (nullable = true)\n",
      " |-- Quantity Ordered: integer (nullable = true)\n",
      " |-- Price Each: float (nullable = true)\n",
      " |-- Order Date: string (nullable = true)\n",
      " |-- Purchase Address: string (nullable = true)\n",
      " |-- Total Sales: float (nullable = true)\n",
      " |-- Order Date Updated: string (nullable = true)\n",
      " |-- Order Time: string (nullable = true)\n",
      " |-- Order Hour: string (nullable = true)\n",
      " |-- State: string (nullable = true)\n",
      " |-- City: string (nullable = true)\n",
      "\n"
     ]
    }
   ],
   "source": [
    "df.printSchema()"
   ]
  },
  {
   "cell_type": "markdown",
   "metadata": {},
   "source": [
    "# Finding out which states spend the most"
   ]
  },
  {
   "cell_type": "code",
   "execution_count": 46,
   "metadata": {},
   "outputs": [
    {
     "name": "stdout",
     "output_type": "stream",
     "text": [
      "+--------------+--------------------+\n",
      "|          City|Total Sales by State|\n",
      "+--------------+--------------------+\n",
      "| San Francisco|   8262203.869155407|\n",
      "|   Los Angeles|   5452570.772869825|\n",
      "| New York City|   4664317.406611681|\n",
      "|        Boston|  3661641.9913027287|\n",
      "|       Atlanta|   2795498.565934658|\n",
      "|        Dallas|   2767975.385901928|\n",
      "|       Seattle|   2747755.465265751|\n",
      "|      Portland|  2320490.5985319614|\n",
      "|        Austin|  1819581.7407691479|\n",
      "+--------------+--------------------+\n",
      "\n"
     ]
    }
   ],
   "source": [
    "df.groupby('City').agg(F.sum('Total Sales').alias('Total Sales by State')).orderBy('Total Sales by State',ascending=False).show()"
   ]
  },
  {
   "cell_type": "code",
   "execution_count": null,
   "metadata": {},
   "outputs": [],
   "source": []
  }
 ],
 "metadata": {
  "kernelspec": {
   "display_name": "Python 3",
   "language": "python",
   "name": "python3"
  },
  "language_info": {
   "codemirror_mode": {
    "name": "ipython",
    "version": 3
   },
   "file_extension": ".py",
   "mimetype": "text/x-python",
   "name": "python",
   "nbconvert_exporter": "python",
   "pygments_lexer": "ipython3",
   "version": "3.7.6"
  }
 },
 "nbformat": 4,
 "nbformat_minor": 4
}
